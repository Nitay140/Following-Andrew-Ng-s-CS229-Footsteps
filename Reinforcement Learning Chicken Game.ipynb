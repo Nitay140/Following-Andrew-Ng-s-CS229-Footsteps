{
 "cells": [
  {
   "cell_type": "code",
   "execution_count": 112,
   "id": "a8c35b92-791c-4592-a647-2b4a121dcce0",
   "metadata": {},
   "outputs": [],
   "source": [
    "import numpy as np\n",
    "import matplotlib.pyplot as plt"
   ]
  },
  {
   "cell_type": "code",
   "execution_count": 38,
   "id": "fb24df68-d4c5-465f-b470-d50150cc79a1",
   "metadata": {},
   "outputs": [
    {
     "name": "stdout",
     "output_type": "stream",
     "text": [
      "[[0 3]\n",
      " [1 2]]\n",
      "[[0 1]\n",
      " [3 2]]\n"
     ]
    }
   ],
   "source": [
    "payoff_p1 = np.array([[0,3], [1,2]])\n",
    "payoff_p2 = np.array([[0,1], [3,2]])\n",
    "print(payoff_p1)\n",
    "print(payoff_p2)"
   ]
  },
  {
   "cell_type": "code",
   "execution_count": 39,
   "id": "c609fa75-34f3-4e66-9681-1bcce9ffc64e",
   "metadata": {},
   "outputs": [],
   "source": [
    "#Playing strategies and receiving payoffs\n",
    "def play(a1, a2):\n",
    "    return payoff_p1[a1, a2], payoff_p2[a1, a2]"
   ]
  },
  {
   "cell_type": "code",
   "execution_count": 42,
   "id": "98cfeef7-1f86-48a4-92cd-ffe8335168c7",
   "metadata": {},
   "outputs": [
    {
     "name": "stdout",
     "output_type": "stream",
     "text": [
      "(3, 1)\n",
      "(1, 3)\n",
      "(0, 0)\n",
      "(2, 2)\n"
     ]
    }
   ],
   "source": [
    "print(play(0,1))\n",
    "print(play(1,0))\n",
    "print(play(0,0))\n",
    "print(play(1,1))"
   ]
  },
  {
   "cell_type": "code",
   "execution_count": 54,
   "id": "cf521de0-ff7b-43cf-9baa-bc10dd9008dd",
   "metadata": {},
   "outputs": [],
   "source": [
    "def expected_payoff_p1(p_opponent_S, action):\n",
    "    return payoff_p1[action, 0] * p_opponent_S + payoff_p1[action, 1] * (1 - p_opponent_S)"
   ]
  },
  {
   "cell_type": "code",
   "execution_count": 55,
   "id": "8c1c9983-f05d-4dec-bdd4-b1da26642669",
   "metadata": {},
   "outputs": [
    {
     "name": "stdout",
     "output_type": "stream",
     "text": [
      "1.25\n"
     ]
    }
   ],
   "source": [
    "print(expected_payoff_p1(0.75,1))"
   ]
  },
  {
   "cell_type": "code",
   "execution_count": 69,
   "id": "a5ea1de2-4d5a-42ed-a5e7-e2521d479a82",
   "metadata": {},
   "outputs": [],
   "source": [
    "def expected_payoff_p2(p_opponent_S, action):\n",
    "    return payoff_p2[0, action] * p_opponent_S + payoff_p2[1, action] * (1 - p_opponent_S)"
   ]
  },
  {
   "cell_type": "code",
   "execution_count": 79,
   "id": "595781f7-4735-4b28-9d17-03881fb5b0b1",
   "metadata": {},
   "outputs": [],
   "source": [
    "def best_action_p1(p_opponent_S):\n",
    "    payoff_if_S = expected_payoff_p1(p_opponent_S, 0)\n",
    "    payoff_if_W = expected_payoff_p1(p_opponent_S, 1)\n",
    "    if payoff_if_S > payoff_if_W:\n",
    "        return 0  # S\n",
    "    else:\n",
    "        return 1  # W"
   ]
  },
  {
   "cell_type": "code",
   "execution_count": 81,
   "id": "21e6c0b3-8c87-4e45-8a58-de380fde6401",
   "metadata": {},
   "outputs": [
    {
     "name": "stdout",
     "output_type": "stream",
     "text": [
      "1\n"
     ]
    }
   ],
   "source": [
    "print(best_action_p1(0.90))"
   ]
  },
  {
   "cell_type": "code",
   "execution_count": 71,
   "id": "b1360417-715c-4153-9fc6-b917b4505964",
   "metadata": {},
   "outputs": [
    {
     "name": "stdout",
     "output_type": "stream",
     "text": [
      "1.8\n"
     ]
    }
   ],
   "source": [
    "print(expected_payoff_p2(0.2,1))"
   ]
  },
  {
   "cell_type": "code",
   "execution_count": 72,
   "id": "4e13d25a-da9e-42b9-a640-775ab3cf049d",
   "metadata": {},
   "outputs": [],
   "source": [
    "def best_action_p2(p_opponent_S):\n",
    "    payoff_if_S = expected_payoff_p2(p_opponent_S, 0)\n",
    "    payoff_if_W = expected_payoff_p2(p_opponent_S, 1)\n",
    "    if payoff_if_S > payoff_if_W:\n",
    "        return 0  # S\n",
    "    else:\n",
    "        return 1  # W"
   ]
  },
  {
   "cell_type": "code",
   "execution_count": 75,
   "id": "f88733a1-71dd-41ec-b407-0ff1f41d36ec",
   "metadata": {},
   "outputs": [
    {
     "name": "stdout",
     "output_type": "stream",
     "text": [
      "0\n"
     ]
    }
   ],
   "source": [
    "print(best_action_p2(0.35))"
   ]
  },
  {
   "cell_type": "code",
   "execution_count": 92,
   "id": "de960327-3c60-4864-b22e-87ff15a9a856",
   "metadata": {},
   "outputs": [
    {
     "name": "stdout",
     "output_type": "stream",
     "text": [
      "Round0: P1 plays 1, P2 plays 0\n",
      "Beliefs -> P1: 0, P2: 1\n",
      "Round1: P1 plays 1, P2 plays 0\n",
      "Beliefs -> P1: 0, P2: 1\n",
      "Round2: P1 plays 1, P2 plays 0\n",
      "Beliefs -> P1: 0, P2: 1\n",
      "Round3: P1 plays 1, P2 plays 0\n",
      "Beliefs -> P1: 0, P2: 1\n",
      "Round4: P1 plays 1, P2 plays 0\n",
      "Beliefs -> P1: 0, P2: 1\n",
      "Round5: P1 plays 1, P2 plays 0\n",
      "Beliefs -> P1: 0, P2: 1\n",
      "Round6: P1 plays 1, P2 plays 0\n",
      "Beliefs -> P1: 0, P2: 1\n",
      "Round7: P1 plays 1, P2 plays 0\n",
      "Beliefs -> P1: 0, P2: 1\n",
      "Round8: P1 plays 1, P2 plays 0\n",
      "Beliefs -> P1: 0, P2: 1\n",
      "Round9: P1 plays 1, P2 plays 0\n",
      "Beliefs -> P1: 0, P2: 1\n"
     ]
    }
   ],
   "source": [
    "p1_belief = 0.2\n",
    "p2_belief = 0.7\n",
    "\n",
    "for iteration in range(10):\n",
    "    payoff_S = expected_payoff_p1(p2_belief, 0)\n",
    "    payoff_W = expected_payoff_p1(p2_belief, 1)\n",
    "    if payoff_S > payoff_W:\n",
    "        action_p1 = 0 # S\n",
    "    else:\n",
    "        action_p1 = 1 # W\n",
    "\n",
    "    payoff_S = expected_payoff_p2(p1_belief, 0)\n",
    "    payoff_W = expected_payoff_p2(p1_belief, 1)\n",
    "    if payoff_S > payoff_W:\n",
    "        action_p2 = 0 # S\n",
    "    else:\n",
    "        action_p2 = 1 # W  \n",
    "\n",
    "    p1_belief = action_p2\n",
    "    p2_belief = action_p1\n",
    "\n",
    "    print(f\"Round{iteration}: P1 plays {action_p1}, P2 plays {action_p2}\")\n",
    "    print(f\"Beliefs -> P1: {p1_belief}, P2: {p2_belief}\")"
   ]
  },
  {
   "cell_type": "code",
   "execution_count": 93,
   "id": "3f94a120-d46b-4a3d-81ad-6ecdaf2c9c81",
   "metadata": {},
   "outputs": [],
   "source": [
    "class ChickenGame:\n",
    "    def __init__(self, C=10, R=2, L=1):\n",
    "        self.payoff_p1 = np.array([[-C, R],\n",
    "                                   [-L, 0]])\n",
    "        self.payoff_p2 = np.array([[-C, -L],\n",
    "                                 [R, 0]])\n",
    "    def step(self, a1, a2):\n",
    "        return self.payoff_p1[a1, a2], self.payoff_p2[a1, a2]"
   ]
  },
  {
   "cell_type": "code",
   "execution_count": 95,
   "id": "3588a374-2c46-4c82-9107-5dce2640a167",
   "metadata": {},
   "outputs": [
    {
     "name": "stdout",
     "output_type": "stream",
     "text": [
      "P1 %Straight: 0.50007\n",
      "P2 %Straight: 0.50005\n",
      "P1 avg reward: -2.25563\n",
      "P2 avg reward: -2.25569\n",
      "P1 KL vs Nash: 0.2596675085081174\n",
      "P2 KL vs Nash: 0.25963742216018176\n"
     ]
    }
   ],
   "source": [
    "### --- parameters ---\n",
    "N = 100000   # number of rounds\n",
    "C, R, L = 10, 2, 1  # crash, reward, loss costs\n",
    "\n",
    "### payoff matrices\n",
    "payoff_p1 = np.array([[-C,  R],\n",
    "                      [-L, 0]])\n",
    "payoff_p2 = np.array([[-C, -L],\n",
    "                      [ R,  0]])\n",
    "\n",
    "def play(a1, a2):\n",
    "    return payoff_p1[a1, a2], payoff_p2[a1, a2]\n",
    "\n",
    "### --- counters ---\n",
    "p1_S_count = 0\n",
    "p2_S_count = 0\n",
    "total_r1 = 0\n",
    "total_r2 = 0\n",
    "\n",
    "### --- simulation loop ---\n",
    "for t in range(N):\n",
    "    # random actions (0=Straight, 1=Swerve)\n",
    "    a1 = np.random.choice([0, 1])\n",
    "    a2 = np.random.choice([0, 1])\n",
    "\n",
    "    # update S counts\n",
    "    if a1 == 0:\n",
    "        p1_S_count += 1\n",
    "    if a2 == 0:\n",
    "        p2_S_count += 1\n",
    "\n",
    "    # get rewards\n",
    "    r1, r2 = play(a1, a2)\n",
    "\n",
    "    # update totals\n",
    "    total_r1 += r1\n",
    "    total_r2 += r2\n",
    "\n",
    "### --- empirical frequencies ---\n",
    "p1_freq_S = p1_S_count / N\n",
    "p2_freq_S = p2_S_count / N\n",
    "\n",
    "avg_r1 = total_r1 / N\n",
    "avg_r2 = total_r2 / N\n",
    "\n",
    "print(\"P1 %Straight:\", p1_freq_S)\n",
    "print(\"P2 %Straight:\", p2_freq_S)\n",
    "print(\"P1 avg reward:\", avg_r1)\n",
    "print(\"P2 avg reward:\", avg_r2)\n",
    "\n",
    "### --- KL divergence vs Nash ---\n",
    "p_star = R / (C - L + R)  # equilibrium Straight prob\n",
    "target_dist = [p_star, 1 - p_star]\n",
    "\n",
    "# empirical distributions\n",
    "emp_p1 = [p1_freq_S, 1 - p1_freq_S]\n",
    "emp_p2 = [p2_freq_S, 1 - p2_freq_S]\n",
    "\n",
    "def kl_divergence(q, p):\n",
    "    d = 0\n",
    "    for qi, pi in zip(q, p):\n",
    "        if qi > 0:  # avoid log(0)\n",
    "            d += qi * np.log(qi / pi)\n",
    "    return d\n",
    "\n",
    "print(\"P1 KL vs Nash:\", kl_divergence(emp_p1, target_dist))\n",
    "print(\"P2 KL vs Nash:\", kl_divergence(emp_p2, target_dist))\n"
   ]
  },
  {
   "cell_type": "code",
   "execution_count": 126,
   "id": "c1e5de45-94db-4d94-a68e-5baf5fe49174",
   "metadata": {},
   "outputs": [],
   "source": [
    "N = 200000\n",
    "alpha = 0.05 #learning rate\n",
    "epsilon_start = 0.2\n",
    "epsilon_end = 0.05\n",
    "\n",
    "C, R, L = 10, 2, 1\n",
    "\n",
    "payoff_p1 = np.array([[-C,  R],\n",
    "                      [-L,  0]])\n",
    "payoff_p2 = np.array([[-C, -L],\n",
    "                      [ R,  0]])\n",
    "\n",
    "def play(a1, a2):\n",
    "    return payoff_p1[a1, a2], payoff_p2[a1, a2]\n",
    "\n",
    "Q1 = np.zeros(2)\n",
    "Q2 = np.zeros(2)\n",
    "\n",
    "p1_S_count = 0\n",
    "p2_S_count = 0\n",
    "\n",
    "def epsilon_greedy(Q, epsilon):\n",
    "    if np.random.rand() < epsilon:\n",
    "        return np.random.choice([0,1])\n",
    "    else:\n",
    "        return np.argmax(Q)"
   ]
  },
  {
   "cell_type": "code",
   "execution_count": 127,
   "id": "4bdfeabb-70ba-4842-8691-b795331911f1",
   "metadata": {},
   "outputs": [
    {
     "name": "stdout",
     "output_type": "stream",
     "text": [
      "Round 1000: P1 plays S, P2 plays W | Rewards: P1=2, P2=-1\n",
      "Round 2000: P1 plays S, P2 plays W | Rewards: P1=2, P2=-1\n",
      "Round 3000: P1 plays W, P2 plays W | Rewards: P1=0, P2=0\n",
      "Round 4000: P1 plays S, P2 plays S | Rewards: P1=-10, P2=-10\n",
      "Round 5000: P1 plays W, P2 plays W | Rewards: P1=0, P2=0\n",
      "Round 6000: P1 plays S, P2 plays W | Rewards: P1=2, P2=-1\n",
      "Round 7000: P1 plays W, P2 plays W | Rewards: P1=0, P2=0\n",
      "Round 8000: P1 plays W, P2 plays W | Rewards: P1=0, P2=0\n",
      "Round 9000: P1 plays W, P2 plays W | Rewards: P1=0, P2=0\n",
      "Round 10000: P1 plays S, P2 plays W | Rewards: P1=2, P2=-1\n",
      "Round 11000: P1 plays S, P2 plays W | Rewards: P1=2, P2=-1\n",
      "Round 12000: P1 plays S, P2 plays W | Rewards: P1=2, P2=-1\n",
      "Round 13000: P1 plays S, P2 plays W | Rewards: P1=2, P2=-1\n",
      "Round 14000: P1 plays S, P2 plays W | Rewards: P1=2, P2=-1\n",
      "Round 15000: P1 plays S, P2 plays W | Rewards: P1=2, P2=-1\n",
      "Round 16000: P1 plays S, P2 plays W | Rewards: P1=2, P2=-1\n",
      "Round 17000: P1 plays S, P2 plays S | Rewards: P1=-10, P2=-10\n",
      "Round 18000: P1 plays S, P2 plays W | Rewards: P1=2, P2=-1\n",
      "Round 19000: P1 plays S, P2 plays W | Rewards: P1=2, P2=-1\n",
      "Round 20000: P1 plays W, P2 plays W | Rewards: P1=0, P2=0\n",
      "Round 21000: P1 plays S, P2 plays W | Rewards: P1=2, P2=-1\n",
      "Round 22000: P1 plays W, P2 plays W | Rewards: P1=0, P2=0\n",
      "Round 23000: P1 plays S, P2 plays S | Rewards: P1=-10, P2=-10\n",
      "Round 24000: P1 plays S, P2 plays W | Rewards: P1=2, P2=-1\n",
      "Round 25000: P1 plays S, P2 plays W | Rewards: P1=2, P2=-1\n",
      "Round 26000: P1 plays S, P2 plays S | Rewards: P1=-10, P2=-10\n",
      "Round 27000: P1 plays W, P2 plays W | Rewards: P1=0, P2=0\n",
      "Round 28000: P1 plays S, P2 plays W | Rewards: P1=2, P2=-1\n",
      "Round 29000: P1 plays S, P2 plays W | Rewards: P1=2, P2=-1\n",
      "Round 30000: P1 plays S, P2 plays S | Rewards: P1=-10, P2=-10\n",
      "Round 31000: P1 plays S, P2 plays W | Rewards: P1=2, P2=-1\n",
      "Round 32000: P1 plays S, P2 plays W | Rewards: P1=2, P2=-1\n",
      "Round 33000: P1 plays S, P2 plays W | Rewards: P1=2, P2=-1\n",
      "Round 34000: P1 plays W, P2 plays W | Rewards: P1=0, P2=0\n",
      "Round 35000: P1 plays W, P2 plays W | Rewards: P1=0, P2=0\n",
      "Round 36000: P1 plays S, P2 plays S | Rewards: P1=-10, P2=-10\n",
      "Round 37000: P1 plays S, P2 plays W | Rewards: P1=2, P2=-1\n",
      "Round 38000: P1 plays S, P2 plays W | Rewards: P1=2, P2=-1\n",
      "Round 39000: P1 plays S, P2 plays W | Rewards: P1=2, P2=-1\n",
      "Round 40000: P1 plays S, P2 plays W | Rewards: P1=2, P2=-1\n",
      "Round 41000: P1 plays S, P2 plays W | Rewards: P1=2, P2=-1\n",
      "Round 42000: P1 plays S, P2 plays W | Rewards: P1=2, P2=-1\n",
      "Round 43000: P1 plays W, P2 plays W | Rewards: P1=0, P2=0\n",
      "Round 44000: P1 plays W, P2 plays W | Rewards: P1=0, P2=0\n",
      "Round 45000: P1 plays S, P2 plays W | Rewards: P1=2, P2=-1\n",
      "Round 46000: P1 plays S, P2 plays W | Rewards: P1=2, P2=-1\n",
      "Round 47000: P1 plays S, P2 plays W | Rewards: P1=2, P2=-1\n",
      "Round 48000: P1 plays S, P2 plays W | Rewards: P1=2, P2=-1\n",
      "Round 49000: P1 plays W, P2 plays W | Rewards: P1=0, P2=0\n",
      "Round 50000: P1 plays W, P2 plays W | Rewards: P1=0, P2=0\n",
      "Round 51000: P1 plays S, P2 plays W | Rewards: P1=2, P2=-1\n",
      "Round 52000: P1 plays W, P2 plays W | Rewards: P1=0, P2=0\n",
      "Round 53000: P1 plays S, P2 plays S | Rewards: P1=-10, P2=-10\n",
      "Round 54000: P1 plays S, P2 plays W | Rewards: P1=2, P2=-1\n",
      "Round 55000: P1 plays S, P2 plays W | Rewards: P1=2, P2=-1\n",
      "Round 56000: P1 plays S, P2 plays W | Rewards: P1=2, P2=-1\n",
      "Round 57000: P1 plays S, P2 plays W | Rewards: P1=2, P2=-1\n",
      "Round 58000: P1 plays S, P2 plays W | Rewards: P1=2, P2=-1\n",
      "Round 59000: P1 plays S, P2 plays W | Rewards: P1=2, P2=-1\n",
      "Round 60000: P1 plays S, P2 plays W | Rewards: P1=2, P2=-1\n",
      "Round 61000: P1 plays S, P2 plays W | Rewards: P1=2, P2=-1\n",
      "Round 62000: P1 plays S, P2 plays W | Rewards: P1=2, P2=-1\n",
      "Round 63000: P1 plays S, P2 plays W | Rewards: P1=2, P2=-1\n",
      "Round 64000: P1 plays S, P2 plays W | Rewards: P1=2, P2=-1\n",
      "Round 65000: P1 plays S, P2 plays W | Rewards: P1=2, P2=-1\n",
      "Round 66000: P1 plays S, P2 plays W | Rewards: P1=2, P2=-1\n",
      "Round 67000: P1 plays S, P2 plays W | Rewards: P1=2, P2=-1\n",
      "Round 68000: P1 plays S, P2 plays W | Rewards: P1=2, P2=-1\n",
      "Round 69000: P1 plays W, P2 plays W | Rewards: P1=0, P2=0\n",
      "Round 70000: P1 plays S, P2 plays W | Rewards: P1=2, P2=-1\n",
      "Round 71000: P1 plays S, P2 plays W | Rewards: P1=2, P2=-1\n",
      "Round 72000: P1 plays W, P2 plays W | Rewards: P1=0, P2=0\n",
      "Round 73000: P1 plays S, P2 plays W | Rewards: P1=2, P2=-1\n",
      "Round 74000: P1 plays S, P2 plays W | Rewards: P1=2, P2=-1\n",
      "Round 75000: P1 plays S, P2 plays W | Rewards: P1=2, P2=-1\n",
      "Round 76000: P1 plays S, P2 plays W | Rewards: P1=2, P2=-1\n",
      "Round 77000: P1 plays S, P2 plays W | Rewards: P1=2, P2=-1\n",
      "Round 78000: P1 plays S, P2 plays W | Rewards: P1=2, P2=-1\n",
      "Round 79000: P1 plays S, P2 plays W | Rewards: P1=2, P2=-1\n",
      "Round 80000: P1 plays S, P2 plays W | Rewards: P1=2, P2=-1\n",
      "Round 81000: P1 plays S, P2 plays W | Rewards: P1=2, P2=-1\n",
      "Round 82000: P1 plays S, P2 plays W | Rewards: P1=2, P2=-1\n",
      "Round 83000: P1 plays S, P2 plays W | Rewards: P1=2, P2=-1\n",
      "Round 84000: P1 plays S, P2 plays S | Rewards: P1=-10, P2=-10\n",
      "Round 85000: P1 plays S, P2 plays W | Rewards: P1=2, P2=-1\n",
      "Round 86000: P1 plays S, P2 plays W | Rewards: P1=2, P2=-1\n",
      "Round 87000: P1 plays S, P2 plays W | Rewards: P1=2, P2=-1\n",
      "Round 88000: P1 plays S, P2 plays W | Rewards: P1=2, P2=-1\n",
      "Round 89000: P1 plays S, P2 plays W | Rewards: P1=2, P2=-1\n",
      "Round 90000: P1 plays W, P2 plays W | Rewards: P1=0, P2=0\n",
      "Round 91000: P1 plays S, P2 plays W | Rewards: P1=2, P2=-1\n",
      "Round 92000: P1 plays S, P2 plays W | Rewards: P1=2, P2=-1\n",
      "Round 93000: P1 plays S, P2 plays W | Rewards: P1=2, P2=-1\n",
      "Round 94000: P1 plays S, P2 plays W | Rewards: P1=2, P2=-1\n",
      "Round 95000: P1 plays S, P2 plays W | Rewards: P1=2, P2=-1\n",
      "Round 96000: P1 plays S, P2 plays W | Rewards: P1=2, P2=-1\n",
      "Round 97000: P1 plays S, P2 plays W | Rewards: P1=2, P2=-1\n",
      "Round 98000: P1 plays S, P2 plays W | Rewards: P1=2, P2=-1\n",
      "Round 99000: P1 plays S, P2 plays W | Rewards: P1=2, P2=-1\n",
      "Round 100000: P1 plays S, P2 plays W | Rewards: P1=2, P2=-1\n",
      "Round 101000: P1 plays S, P2 plays W | Rewards: P1=2, P2=-1\n",
      "Round 102000: P1 plays S, P2 plays W | Rewards: P1=2, P2=-1\n",
      "Round 103000: P1 plays S, P2 plays W | Rewards: P1=2, P2=-1\n",
      "Round 104000: P1 plays S, P2 plays W | Rewards: P1=2, P2=-1\n",
      "Round 105000: P1 plays S, P2 plays W | Rewards: P1=2, P2=-1\n",
      "Round 106000: P1 plays W, P2 plays W | Rewards: P1=0, P2=0\n",
      "Round 107000: P1 plays S, P2 plays W | Rewards: P1=2, P2=-1\n",
      "Round 108000: P1 plays S, P2 plays W | Rewards: P1=2, P2=-1\n",
      "Round 109000: P1 plays S, P2 plays W | Rewards: P1=2, P2=-1\n",
      "Round 110000: P1 plays S, P2 plays W | Rewards: P1=2, P2=-1\n",
      "Round 111000: P1 plays S, P2 plays W | Rewards: P1=2, P2=-1\n",
      "Round 112000: P1 plays S, P2 plays S | Rewards: P1=-10, P2=-10\n",
      "Round 113000: P1 plays S, P2 plays W | Rewards: P1=2, P2=-1\n",
      "Round 114000: P1 plays S, P2 plays W | Rewards: P1=2, P2=-1\n",
      "Round 115000: P1 plays S, P2 plays W | Rewards: P1=2, P2=-1\n",
      "Round 116000: P1 plays W, P2 plays W | Rewards: P1=0, P2=0\n",
      "Round 117000: P1 plays S, P2 plays W | Rewards: P1=2, P2=-1\n",
      "Round 118000: P1 plays S, P2 plays W | Rewards: P1=2, P2=-1\n",
      "Round 119000: P1 plays S, P2 plays W | Rewards: P1=2, P2=-1\n",
      "Round 120000: P1 plays S, P2 plays W | Rewards: P1=2, P2=-1\n",
      "Round 121000: P1 plays S, P2 plays W | Rewards: P1=2, P2=-1\n",
      "Round 122000: P1 plays S, P2 plays W | Rewards: P1=2, P2=-1\n",
      "Round 123000: P1 plays S, P2 plays W | Rewards: P1=2, P2=-1\n",
      "Round 124000: P1 plays S, P2 plays W | Rewards: P1=2, P2=-1\n",
      "Round 125000: P1 plays S, P2 plays W | Rewards: P1=2, P2=-1\n",
      "Round 126000: P1 plays S, P2 plays W | Rewards: P1=2, P2=-1\n",
      "Round 127000: P1 plays S, P2 plays W | Rewards: P1=2, P2=-1\n",
      "Round 128000: P1 plays S, P2 plays W | Rewards: P1=2, P2=-1\n",
      "Round 129000: P1 plays W, P2 plays W | Rewards: P1=0, P2=0\n",
      "Round 130000: P1 plays S, P2 plays W | Rewards: P1=2, P2=-1\n",
      "Round 131000: P1 plays S, P2 plays W | Rewards: P1=2, P2=-1\n",
      "Round 132000: P1 plays S, P2 plays W | Rewards: P1=2, P2=-1\n",
      "Round 133000: P1 plays S, P2 plays W | Rewards: P1=2, P2=-1\n",
      "Round 134000: P1 plays S, P2 plays W | Rewards: P1=2, P2=-1\n",
      "Round 135000: P1 plays S, P2 plays W | Rewards: P1=2, P2=-1\n",
      "Round 136000: P1 plays S, P2 plays W | Rewards: P1=2, P2=-1\n",
      "Round 137000: P1 plays S, P2 plays W | Rewards: P1=2, P2=-1\n",
      "Round 138000: P1 plays S, P2 plays W | Rewards: P1=2, P2=-1\n",
      "Round 139000: P1 plays S, P2 plays W | Rewards: P1=2, P2=-1\n",
      "Round 140000: P1 plays S, P2 plays W | Rewards: P1=2, P2=-1\n",
      "Round 141000: P1 plays S, P2 plays W | Rewards: P1=2, P2=-1\n",
      "Round 142000: P1 plays S, P2 plays W | Rewards: P1=2, P2=-1\n",
      "Round 143000: P1 plays S, P2 plays W | Rewards: P1=2, P2=-1\n",
      "Round 144000: P1 plays S, P2 plays W | Rewards: P1=2, P2=-1\n",
      "Round 145000: P1 plays S, P2 plays W | Rewards: P1=2, P2=-1\n",
      "Round 146000: P1 plays S, P2 plays W | Rewards: P1=2, P2=-1\n",
      "Round 147000: P1 plays S, P2 plays W | Rewards: P1=2, P2=-1\n",
      "Round 148000: P1 plays S, P2 plays W | Rewards: P1=2, P2=-1\n",
      "Round 149000: P1 plays S, P2 plays W | Rewards: P1=2, P2=-1\n",
      "Round 150000: P1 plays S, P2 plays W | Rewards: P1=2, P2=-1\n",
      "Round 151000: P1 plays S, P2 plays W | Rewards: P1=2, P2=-1\n",
      "Round 152000: P1 plays S, P2 plays W | Rewards: P1=2, P2=-1\n",
      "Round 153000: P1 plays S, P2 plays W | Rewards: P1=2, P2=-1\n",
      "Round 154000: P1 plays S, P2 plays W | Rewards: P1=2, P2=-1\n",
      "Round 155000: P1 plays W, P2 plays W | Rewards: P1=0, P2=0\n",
      "Round 156000: P1 plays S, P2 plays W | Rewards: P1=2, P2=-1\n",
      "Round 157000: P1 plays S, P2 plays W | Rewards: P1=2, P2=-1\n",
      "Round 158000: P1 plays W, P2 plays W | Rewards: P1=0, P2=0\n",
      "Round 159000: P1 plays S, P2 plays W | Rewards: P1=2, P2=-1\n",
      "Round 160000: P1 plays S, P2 plays W | Rewards: P1=2, P2=-1\n",
      "Round 161000: P1 plays S, P2 plays W | Rewards: P1=2, P2=-1\n",
      "Round 162000: P1 plays S, P2 plays W | Rewards: P1=2, P2=-1\n",
      "Round 163000: P1 plays S, P2 plays S | Rewards: P1=-10, P2=-10\n",
      "Round 164000: P1 plays S, P2 plays W | Rewards: P1=2, P2=-1\n",
      "Round 165000: P1 plays S, P2 plays W | Rewards: P1=2, P2=-1\n",
      "Round 166000: P1 plays S, P2 plays W | Rewards: P1=2, P2=-1\n",
      "Round 167000: P1 plays S, P2 plays W | Rewards: P1=2, P2=-1\n",
      "Round 168000: P1 plays S, P2 plays W | Rewards: P1=2, P2=-1\n",
      "Round 169000: P1 plays S, P2 plays S | Rewards: P1=-10, P2=-10\n",
      "Round 170000: P1 plays S, P2 plays W | Rewards: P1=2, P2=-1\n",
      "Round 171000: P1 plays S, P2 plays W | Rewards: P1=2, P2=-1\n",
      "Round 172000: P1 plays S, P2 plays W | Rewards: P1=2, P2=-1\n",
      "Round 173000: P1 plays S, P2 plays W | Rewards: P1=2, P2=-1\n",
      "Round 174000: P1 plays S, P2 plays W | Rewards: P1=2, P2=-1\n",
      "Round 175000: P1 plays S, P2 plays W | Rewards: P1=2, P2=-1\n",
      "Round 176000: P1 plays S, P2 plays W | Rewards: P1=2, P2=-1\n",
      "Round 177000: P1 plays S, P2 plays W | Rewards: P1=2, P2=-1\n",
      "Round 178000: P1 plays S, P2 plays W | Rewards: P1=2, P2=-1\n",
      "Round 179000: P1 plays S, P2 plays W | Rewards: P1=2, P2=-1\n",
      "Round 180000: P1 plays S, P2 plays W | Rewards: P1=2, P2=-1\n",
      "Round 181000: P1 plays S, P2 plays W | Rewards: P1=2, P2=-1\n",
      "Round 182000: P1 plays S, P2 plays W | Rewards: P1=2, P2=-1\n",
      "Round 183000: P1 plays S, P2 plays W | Rewards: P1=2, P2=-1\n",
      "Round 184000: P1 plays S, P2 plays W | Rewards: P1=2, P2=-1\n",
      "Round 185000: P1 plays S, P2 plays W | Rewards: P1=2, P2=-1\n",
      "Round 186000: P1 plays S, P2 plays W | Rewards: P1=2, P2=-1\n",
      "Round 187000: P1 plays S, P2 plays W | Rewards: P1=2, P2=-1\n",
      "Round 188000: P1 plays S, P2 plays W | Rewards: P1=2, P2=-1\n",
      "Round 189000: P1 plays S, P2 plays W | Rewards: P1=2, P2=-1\n",
      "Round 190000: P1 plays S, P2 plays W | Rewards: P1=2, P2=-1\n",
      "Round 191000: P1 plays S, P2 plays W | Rewards: P1=2, P2=-1\n",
      "Round 192000: P1 plays S, P2 plays W | Rewards: P1=2, P2=-1\n",
      "Round 193000: P1 plays S, P2 plays W | Rewards: P1=2, P2=-1\n",
      "Round 194000: P1 plays S, P2 plays W | Rewards: P1=2, P2=-1\n",
      "Round 195000: P1 plays S, P2 plays W | Rewards: P1=2, P2=-1\n",
      "Round 196000: P1 plays S, P2 plays W | Rewards: P1=2, P2=-1\n",
      "Round 197000: P1 plays S, P2 plays W | Rewards: P1=2, P2=-1\n",
      "Round 198000: P1 plays S, P2 plays W | Rewards: P1=2, P2=-1\n",
      "Round 199000: P1 plays S, P2 plays W | Rewards: P1=2, P2=-1\n",
      "Round 200000: P1 plays S, P2 plays W | Rewards: P1=2, P2=-1\n",
      "P1 %Straight: 0.819345\n",
      "P2 %Straight: 0.065525\n",
      "Equilibrium %Straight: 0.18181818181818182\n"
     ]
    }
   ],
   "source": [
    "p1_S_count = 0\n",
    "p2_S_count = 0\n",
    "p1_actions = []\n",
    "p2_actions = []\n",
    "p1_rewards = []\n",
    "p2_rewards = []\n",
    "\n",
    "for t in range(N):\n",
    "    epsilon = epsilon_start - (epsilon_start - epsilon_end) * (t / N)\n",
    "\n",
    "    a1 = epsilon_greedy(Q1, epsilon)\n",
    "    a2 = epsilon_greedy(Q2, epsilon)\n",
    "    \n",
    "    if a1 == 0: p1_S_count += 1\n",
    "    if a2 == 0: p2_S_count += 1\n",
    "    \n",
    "    # get rewards\n",
    "    r1, r2 = play(a1, a2)\n",
    "    \n",
    "    Q1[a1] = Q1[a1] + alpha * (r1 - Q1[a1])\n",
    "    Q2[a2] = Q2[a2] + alpha * (r2 - Q2[a2])\n",
    "\n",
    "    p1_actions.append(a1)\n",
    "    p2_actions.append(a2)\n",
    "    p1_rewards.append(r1)\n",
    "    p2_rewards.append(r2)\n",
    "    \n",
    "    if (t+1) % 1000 ==0:\n",
    "        print(f\"Round {t+1}: P1 plays {'S' if a1==0 else 'W'}, P2 plays {'S' if a2==0 else 'W'} | Rewards: P1={r1}, P2={r2}\")\n",
    "\n",
    "\n",
    "\n",
    "\n",
    "p1_freq_S = p1_S_count / N\n",
    "p2_freq_S = p2_S_count / N\n",
    "\n",
    "\n",
    "\n",
    "\n",
    "print(\"P1 %Straight:\", p1_freq_S)\n",
    "print(\"P2 %Straight:\", p2_freq_S)\n",
    "\n",
    "p_star = R / (C - L + R)\n",
    "print(\"Equilibrium %Straight:\", p_star)"
   ]
  },
  {
   "cell_type": "code",
   "execution_count": 128,
   "id": "82a30826-878d-494d-84e6-12db97b02a2f",
   "metadata": {},
   "outputs": [],
   "source": [
    "window = 1000\n",
    "def running_average(actions, window):\n",
    "    arr = np.array(actions)\n",
    "    return np.convolve(arr ==0, np.ones(window)/window, mode='valid')\n",
    "\n",
    "p1_percent_straight = running_average(p1_actions, window)\n",
    "p2_percent_straight = running_average(p2_actions, window)"
   ]
  },
  {
   "cell_type": "code",
   "execution_count": 129,
   "id": "31084064-20d2-4e49-bf23-c9690a56488e",
   "metadata": {},
   "outputs": [
    {
     "data": {
      "image/png": "[encoded data removed]",
      "text/plain": [
       "<Figure size 1000x500 with 1 Axes>"
      ]
     },
     "metadata": {},
     "output_type": "display_data"
    }
   ],
   "source": [
    "plt.figure(figsize=(10,5))\n",
    "plt.plot(p1_percent_straight, label='P1 %Straight')\n",
    "plt.plot(p2_percent_straight, label='P2 %Straight')\n",
    "plt.axhline(y=p_star, color='r', linestyle='--', label='Nash Equilibrium')\n",
    "plt.xlabel('Rounds (smoothed)')\n",
    "plt.ylabel('%Straight')\n",
    "plt.title('Q-learning Agents Coverging to Mixed Nash in Chicken')\n",
    "plt.legend()\n",
    "plt.show()"
   ]
  },
  {
   "cell_type": "code",
   "execution_count": null,
   "id": "fe213d2a-19c6-4de9-b0c2-dd75ac45d981",
   "metadata": {},
   "outputs": [],
   "source": []
  }
 ],
 "metadata": {
  "kernelspec": {
   "display_name": "Python 3 (ipykernel)",
   "language": "python",
   "name": "python3"
  },
  "language_info": {
   "codemirror_mode": {
    "name": "ipython",
    "version": 3
   },
   "file_extension": ".py",
   "mimetype": "text/x-python",
   "name": "python",
   "nbconvert_exporter": "python",
   "pygments_lexer": "ipython3",
   "version": "3.9.23"
  }
 },
 "nbformat": 4,
 "nbformat_minor": 5
}
